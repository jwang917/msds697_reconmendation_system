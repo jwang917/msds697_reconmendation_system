{
 "cells": [
  {
   "cell_type": "code",
   "execution_count": 1,
   "metadata": {},
   "outputs": [],
   "source": [
    "from pyspark import SparkContext\n",
    "from pyspark.sql import SparkSession\n",
    "\n",
    "sc = SparkContext.getOrCreate()\n",
    "ss = SparkSession.builder.getOrCreate()"
   ]
  },
  {
   "cell_type": "code",
   "execution_count": 2,
   "metadata": {},
   "outputs": [],
   "source": [
    "def convert_rating(row):\n",
    "    row[2] = float(row[2])\n",
    "    return row\n",
    "\n",
    "path = '/Users/shijialiang/data/amazon/ratings_Kindle_Store.csv'\n",
    "books_data = sc.textFile(path).map(lambda x: x.split(',')).map(lambda x: convert_rating(x)).cache()\n",
    "\n",
    "from pyspark.sql.types import *\n",
    "schema = StructType([StructField(\"user\", StringType(), False),\n",
    "                      StructField(\"item\", StringType(), False),\n",
    "                      StructField(\"rating\", FloatType(), False),\n",
    "                      StructField(\"time\", StringType(), True)\n",
    "                    ])\n",
    "\n",
    "books_df = ss.createDataFrame(books_data, schema).cache()"
   ]
  },
  {
   "cell_type": "code",
   "execution_count": 3,
   "metadata": {},
   "outputs": [
    {
     "data": {
      "text/plain": [
       "3205467"
      ]
     },
     "execution_count": 3,
     "metadata": {},
     "output_type": "execute_result"
    }
   ],
   "source": [
    "books_df.count()"
   ]
  },
  {
   "cell_type": "code",
   "execution_count": 4,
   "metadata": {},
   "outputs": [
    {
     "name": "stdout",
     "output_type": "stream",
     "text": [
      "+--------------+----------+------+----------+\n",
      "|          user|      item|rating|      time|\n",
      "+--------------+----------+------+----------+\n",
      "|A2GZ9GFZV1LWB0|1603420304|   4.0|1405209600|\n",
      "|A1K7VSUDCVAPW8|1603420304|   3.0|1282176000|\n",
      "|A35J5XRE5ZT6H2|1603420304|   4.0|1365206400|\n",
      "|A3DGZNFSMNWSX5|1603420304|   4.0|1285632000|\n",
      "|A2CVDQ6H36L4VL|1603420304|   5.0|1342396800|\n",
      "+--------------+----------+------+----------+\n",
      "only showing top 5 rows\n",
      "\n"
     ]
    }
   ],
   "source": [
    "books_df.show(5)"
   ]
  },
  {
   "cell_type": "code",
   "execution_count": 5,
   "metadata": {},
   "outputs": [],
   "source": [
    "books_df.write.saveAsTable('kindle')"
   ]
  },
  {
   "cell_type": "code",
   "execution_count": 6,
   "metadata": {},
   "outputs": [
    {
     "data": {
      "text/plain": [
       "1406890"
      ]
     },
     "execution_count": 6,
     "metadata": {},
     "output_type": "execute_result"
    }
   ],
   "source": [
    "# number of users\n",
    "ss.sql('select distinct user from kindle').count()"
   ]
  },
  {
   "cell_type": "code",
   "execution_count": 7,
   "metadata": {},
   "outputs": [
    {
     "data": {
      "text/plain": [
       "1229"
      ]
     },
     "execution_count": 7,
     "metadata": {},
     "output_type": "execute_result"
    }
   ],
   "source": [
    "ss.sql('select distinct user from kindle group by user having count(item) > 100').count()"
   ]
  },
  {
   "cell_type": "code",
   "execution_count": 8,
   "metadata": {},
   "outputs": [
    {
     "data": {
      "text/plain": [
       "430530"
      ]
     },
     "execution_count": 8,
     "metadata": {},
     "output_type": "execute_result"
    }
   ],
   "source": [
    "# number of books\n",
    "ss.sql('select distinct item from kindle').count()"
   ]
  },
  {
   "cell_type": "code",
   "execution_count": null,
   "metadata": {},
   "outputs": [],
   "source": [
    "ss.sql('select distinct item from kindle group by item having count(user) > 100').count()"
   ]
  },
  {
   "cell_type": "code",
   "execution_count": 15,
   "metadata": {},
   "outputs": [
    {
     "name": "stdout",
     "output_type": "stream",
     "text": [
      "+----------+\n",
      "|      item|\n",
      "+----------+\n",
      "|B00CATSONE|\n",
      "|B006GWO5NE|\n",
      "|B006P5CH1O|\n",
      "|B006GWO5WK|\n",
      "|B005DOK8NW|\n",
      "|B006YC7A0Q|\n",
      "|B007R5YDYA|\n",
      "|B00BTIDW4S|\n",
      "|B00825BZUY|\n",
      "|B00902SFC4|\n",
      "|B0093MU7QS|\n",
      "+----------+\n",
      "\n"
     ]
    }
   ],
   "source": [
    "ss.sql('select distinct item from kindle group by item having count(user) > 2000').show()"
   ]
  },
  {
   "cell_type": "code",
   "execution_count": 10,
   "metadata": {},
   "outputs": [
    {
     "data": {
      "text/plain": [
       "39470"
      ]
     },
     "execution_count": 10,
     "metadata": {},
     "output_type": "execute_result"
    }
   ],
   "source": [
    "# filtered data columns\n",
    "ss.sql('select * from kindle\\\n",
    "        where user in (select distinct user from kindle group by user having count(item) > 100)\\\n",
    "          and item in (select distinct item from kindle group by item having count(user) > 60)')\\\n",
    ".count()"
   ]
  },
  {
   "cell_type": "code",
   "execution_count": null,
   "metadata": {},
   "outputs": [],
   "source": []
  }
 ],
 "metadata": {
  "kernelspec": {
   "display_name": "Python 3",
   "language": "python",
   "name": "python3"
  },
  "language_info": {
   "codemirror_mode": {
    "name": "ipython",
    "version": 3
   },
   "file_extension": ".py",
   "mimetype": "text/x-python",
   "name": "python",
   "nbconvert_exporter": "python",
   "pygments_lexer": "ipython3",
   "version": "3.6.6"
  }
 },
 "nbformat": 4,
 "nbformat_minor": 2
}
