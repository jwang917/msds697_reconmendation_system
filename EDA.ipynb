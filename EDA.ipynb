{
 "cells": [
  {
   "cell_type": "code",
   "execution_count": 1,
   "metadata": {},
   "outputs": [],
   "source": [
    "from pyspark import SparkContext\n",
    "from pyspark.sql import SparkSession\n",
    "\n",
    "sc = SparkContext.getOrCreate()\n",
    "ss = SparkSession.builder.config('spark.sql.pivotMaxValues', '999999').getOrCreate()"
   ]
  },
  {
   "cell_type": "code",
   "execution_count": 3,
   "metadata": {},
   "outputs": [],
   "source": [
    "def convert_rating(row):\n",
    "    row[2] = float(row[2])\n",
    "    return row\n",
    "\n",
    "path = '/Users/shijialiang/data/amazon/rating_BookElectronics.csv'\n",
    "books_data = sc.textFile(path).map(lambda x: x.split(',')).map(lambda x: convert_rating(x)).cache()"
   ]
  },
  {
   "cell_type": "code",
   "execution_count": 10,
   "metadata": {},
   "outputs": [],
   "source": [
    "from pyspark.sql.types import *\n",
    "schema = StructType([StructField(\"user\", StringType(), False),\n",
    "                      StructField(\"item\", StringType(), False),\n",
    "                      StructField(\"rating\", FloatType(), False),\n",
    "                      StructField(\"time\", StringType(), True)\n",
    "                    ])\n",
    "books_df = ss.createDataFrame(books_data, schema).cache()"
   ]
  },
  {
   "cell_type": "code",
   "execution_count": 11,
   "metadata": {},
   "outputs": [],
   "source": [
    "books_df.write.saveAsTable('books')"
   ]
  },
  {
   "cell_type": "code",
   "execution_count": 14,
   "metadata": {},
   "outputs": [
    {
     "data": {
      "text/plain": [
       "30331635"
      ]
     },
     "execution_count": 14,
     "metadata": {},
     "output_type": "execute_result"
    }
   ],
   "source": [
    "ss.sql('select * from books').count()"
   ]
  },
  {
   "cell_type": "code",
   "execution_count": 15,
   "metadata": {},
   "outputs": [
    {
     "name": "stdout",
     "output_type": "stream",
     "text": [
      "+--------------+----------+------+----------+\n",
      "|          user|      item|rating|      time|\n",
      "+--------------+----------+------+----------+\n",
      "|A2IIIDRK3PRRZY|0000000116|   1.0|1395619200|\n",
      "|A1TADCM7YWPQ8M|0000000868|   4.0|1031702400|\n",
      "| AWGH7V0BDOJKB|0000013714|   4.0|1383177600|\n",
      "|A3UTQPQPM4TQO0|0000013714|   5.0|1374883200|\n",
      "| A8ZS0I5L5V31B|0000013714|   5.0|1393632000|\n",
      "+--------------+----------+------+----------+\n",
      "only showing top 5 rows\n",
      "\n"
     ]
    }
   ],
   "source": [
    "books_df.show(5)"
   ]
  },
  {
   "cell_type": "code",
   "execution_count": 23,
   "metadata": {},
   "outputs": [],
   "source": [
    "userNum_bookCount = ss.sql('select user_num, count(*) as book_count\\\n",
    "                            from (select item, count(user) as user_num from books group by item)\\\n",
    "                            group by user_num order by user_num').collect()"
   ]
  },
  {
   "cell_type": "code",
   "execution_count": 78,
   "metadata": {},
   "outputs": [],
   "source": [
    "bookNum_userCount = ss.sql('select item_num, count(*) as user_count\\\n",
    "                            from (select user, count(item) as item_num from books group by user)\\\n",
    "                            group by item_num order by item_num').collect()"
   ]
  },
  {
   "cell_type": "code",
   "execution_count": 98,
   "metadata": {},
   "outputs": [],
   "source": [
    "import matplotlib.pyplot as plt\n",
    "from math import log\n",
    "\n",
    "userNum = [x[0] for x in userNum_bookCount]\n",
    "log_bookCount = [log(x[1]) for x in userNum_bookCount]\n",
    "\n",
    "bookNum = [x[0] for x in bookNum_userCount]\n",
    "log_userCount = [log(x[1]) for x in bookNum_userCount]"
   ]
  },
  {
   "cell_type": "code",
   "execution_count": 114,
   "metadata": {},
   "outputs": [
    {
     "data": {
      "text/plain": [
       "(0, 1000)"
      ]
     },
     "execution_count": 114,
     "metadata": {},
     "output_type": "execute_result"
    },
    {
     "data": {
      "image/png": "[encoded data removed]",
      "text/plain": [
       "<Figure size 432x288 with 1 Axes>"
      ]
     },
     "metadata": {
      "needs_background": "light"
     },
     "output_type": "display_data"
    }
   ],
   "source": [
    "plt.bar(userNum, log_bookCount)\n",
    "plt.xlim(0, 1000)"
   ]
  },
  {
   "cell_type": "code",
   "execution_count": 115,
   "metadata": {},
   "outputs": [
    {
     "data": {
      "text/plain": [
       "(0, 1000)"
      ]
     },
     "execution_count": 115,
     "metadata": {},
     "output_type": "execute_result"
    },
    {
     "data": {
      "image/png": "[encoded data removed]",
      "text/plain": [
       "<Figure size 432x288 with 1 Axes>"
      ]
     },
     "metadata": {
      "needs_background": "light"
     },
     "output_type": "display_data"
    }
   ],
   "source": [
    "plt.bar(bookNum, log_userCount)\n",
    "plt.xlim(0, 1000)\n"
   ]
  },
  {
   "cell_type": "code",
   "execution_count": null,
   "metadata": {},
   "outputs": [],
   "source": []
  }
 ],
 "metadata": {
  "kernelspec": {
   "display_name": "Python 3",
   "language": "python",
   "name": "python3"
  },
  "language_info": {
   "codemirror_mode": {
    "name": "ipython",
    "version": 3
   },
   "file_extension": ".py",
   "mimetype": "text/x-python",
   "name": "python",
   "nbconvert_exporter": "python",
   "pygments_lexer": "ipython3",
   "version": "3.6.6"
  }
 },
 "nbformat": 4,
 "nbformat_minor": 2
}
